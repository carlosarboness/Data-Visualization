{
 "cells": [
  {
   "cell_type": "markdown",
   "metadata": {},
   "source": [
    "# Collisions in NY City\n",
    " Carlos Arbonés & Benet Ramió"
   ]
  },
  {
   "cell_type": "markdown",
   "metadata": {},
   "source": [
    "## Data extraction"
   ]
  },
  {
   "cell_type": "markdown",
   "metadata": {},
   "source": [
    "We acquired the dataset from the [Motor Vehicle Collisions](https://data.cityofnewyork.us/Public-Safety/Motor-Vehicle-Collisions-Crashes/h9gi-nx95) source. Prior to obtaining it, we specifically filtered and downloaded the records corresponding to the periods of June to September in both 2018 and 2020."
   ]
  },
  {
   "cell_type": "markdown",
   "metadata": {},
   "source": [
    "## General Info"
   ]
  },
  {
   "cell_type": "markdown",
   "metadata": {},
   "source": [
    "The dataset contains 115740 rows and 30 columns. "
   ]
  },
  {
   "cell_type": "markdown",
   "metadata": {},
   "source": [
    "## Preprocessing"
   ]
  },
  {
   "cell_type": "markdown",
   "metadata": {},
   "source": [
    "We will review every colum and check datatypes, null values, clustering..."
   ]
  },
  {
   "cell_type": "markdown",
   "metadata": {},
   "source": [
    "### Crash Date"
   ]
  },
  {
   "cell_type": "markdown",
   "metadata": {},
   "source": [
    "We mantain the datatype text. There are not null values. The data is consistent. We sort rows by Crash Date. "
   ]
  },
  {
   "cell_type": "markdown",
   "metadata": {},
   "source": [
    "### Crash Time"
   ]
  },
  {
   "cell_type": "markdown",
   "metadata": {},
   "source": [
    "No null values. There are hours like 00:00 and 13:00 that there are a lot of accidents. Exact hours like 15:20 or 6:45 are more often than minuts like 19, 23... that may be commodity typo by officers."
   ]
  },
  {
   "cell_type": "markdown",
   "metadata": {},
   "source": [
    "### Borough (municipio)"
   ]
  },
  {
   "cell_type": "markdown",
   "metadata": {},
   "source": [
    "Only 6 different values: BRONX, BROOKLYN, MANHATTAN, QUEENS, STATEN ISLAND, and blank. Blank has 40671 values. "
   ]
  },
  {
   "cell_type": "markdown",
   "metadata": {},
   "source": [
    "### Zip Code"
   ]
  },
  {
   "cell_type": "markdown",
   "metadata": {},
   "source": [
    "We change the datatype to number. There are 208 different zip codes. The majority of rows that do not have borough neither they have zip code, lot of blanks. From the zip code we can derive the \n",
    "borough: \n",
    "- Manhattan:10001-10282.\n",
    "- Staten Island :10301-10314.\n",
    "- Bronx: 10451-10475.\n",
    "- Queens:11004-11109, 11351-11697.\n",
    "- Brooklyn:11201-11256."
   ]
  },
  {
   "cell_type": "markdown",
   "metadata": {},
   "source": [
    "### Latitude, Longitude and Location"
   ]
  },
  {
   "cell_type": "markdown",
   "metadata": {},
   "source": [
    "We changed the type of latitude and longitude to number. We remove column location since we have all the information in the 2 previous columns. There are 7667 blanks.  "
   ]
  },
  {
   "cell_type": "markdown",
   "metadata": {},
   "source": [
    "There were atypical values like longitudes of -201 (impossible values). All this values were assigned to the same sreet: \"QUEENSBORO BRIDGE UPPER BROADWAY\". We checked the real longitude and it is -73.954224, we changed the values to this langitude. "
   ]
  },
  {
   "cell_type": "markdown",
   "metadata": {},
   "source": [
    "There is also and strange value of longitude related to NASSAU EXPRESSWAY, we changed and correct the previous value (-32) to -73.7813672. "
   ]
  },
  {
   "cell_type": "markdown",
   "metadata": {},
   "source": [
    "Again, antother wrong longitude value... We changed the value of the \"WEST SHORE EXPRESSWAY\" from -74.7 to -74.1864671."
   ]
  },
  {
   "cell_type": "markdown",
   "metadata": {},
   "source": [
    "The rows that have both latitude and longitude equal to 0, we change the values to blank text in order to uniform the data. "
   ]
  },
  {
   "cell_type": "markdown",
   "metadata": {},
   "source": [
    "### ON STREET NAME, CROSS STREET NAME and OFF STREET NAME"
   ]
  },
  {
   "cell_type": "markdown",
   "metadata": {},
   "source": [
    "We remove the colums since they have a lot of blank values (On street name has 28000, Cross Street name has more than 57000 and OFF STREET NAME more or less 80000) and the information is redundant and there are too many streets to make interesting viwes of groups. If needed we have more information in the latitude-longitude columns. "
   ]
  },
  {
   "cell_type": "markdown",
   "metadata": {},
   "source": [
    "### NUMBER OF PERSONS INJURED, NUMBER OF PERSONS KILLED, NUMBER OF PEDASTRIANS INJURED,NUMBER OF PEDASTRIANS KILLED, NUMBER OF CYCLISTS INJURED, NUMBER OF CYCLISTS KILLED, NUMBER OF MOTORISTS INJURED, NUMBER OF MOTORISTS KILLED"
   ]
  },
  {
   "cell_type": "markdown",
   "metadata": {},
   "source": [
    "We change the datatype of all this columns to number and changed the column names to shorter and more informative ones. The new names are: \n",
    "\n",
    "- TOTAL_INJURED\n",
    "- TOTAL_KILLED\n",
    "- PEDASTRIANS_INJURED\n",
    "- PEDASTRIANS_KILLED\n",
    "- CYCLISTS_INJURED\n",
    "- CYCLISTS_KILLED\n",
    "- MOTORISTS_INJURED\n",
    "- MOTORISTS_KILLED\n",
    "\n"
   ]
  },
  {
   "cell_type": "markdown",
   "metadata": {},
   "source": [
    "### COLLISION_ID"
   ]
  },
  {
   "cell_type": "markdown",
   "metadata": {},
   "source": [
    "We remove the columns since we do not need it for our analysis"
   ]
  },
  {
   "cell_type": "markdown",
   "metadata": {},
   "source": [
    "### VEHICLE TYPE CODE 1 & 2"
   ]
  },
  {
   "cell_type": "markdown",
   "metadata": {},
   "source": [
    "For both vehicle type code 1 and 2 we have done a cluster with Nearest Neighbor Method and then with key collision to uniform the final names. Since a lot of human errors were not clustered properly with this automatic method, we also checked all the names to see if we could cluster manually more, which we did. For example, a vehicle was entered as GLP050VXEV and searching in internet we saw that is a model of forklift so we changed its name. Like this example, we did it with a lot of vehicles. We also generalized some vehicles which were too especific; for example we changed ice cream truck to food truck or fedex, ups, mail and others to delivery to have less classes of vehicles. Furthermore, all the unknown and NA values were putted in the blank format. Even with all the transformations mentioned, there were some types of vehicles that were not inerpretable and we were not able to correct and put into a cluster. \n",
    "\n",
    "It is important to remark that before doing any tranformation to the vheicle type names, form code 1 there were 361 different names and from code 2 there were 373."
   ]
  },
  {
   "cell_type": "markdown",
   "metadata": {},
   "source": [
    "The list of names and number of examples of \"VEHICLE TYPE CODE 1\" after we applying all the transformations mentioned are the following: \n",
    "\n",
    "- Sedan - 54025\n",
    "- Station Wagon/Sport Utility Vehicle - 40658\n",
    "- Taxi - 4806\n",
    "- Pickup - 3479\n",
    "- Box truck - 2325\n",
    "- Bike - 1938\n",
    "- Bus - 1420\n",
    "- Truck - 1087\n",
    "- Motorcycle - 1051\n",
    "- Van - 836\n",
    "- Ambulance - 467\n",
    "- Convertible - 411\n",
    "- Dump - 325\n",
    "- E-Scooter - 240\n",
    "- Flat bed - 232\n",
    "- Garbage - 193\n",
    "- Carry All - 146\n",
    "- E-Bike - 146\n",
    "- Moped - 135\n",
    "- Tow truck - 106\n",
    "- Scooter - 90\n",
    "- Chassis Cab - 83\n",
    "- Fire truck - 78\n",
    "- Tanker - 70\n",
    "- Motorbike - 64\n",
    "- Concrete Mixer - 63\n",
    "- Trailer - 63\n",
    "- Flat rack - 42\n",
    "- Delivery - 39\n",
    "- Armored Truck - 33\n",
    "- Beverage Truck - 30\n",
    "- 3-Door - 28\n",
    "- Lift boom - 21\n",
    "- Multi-Wheeled Vehicle - 19\n",
    "- Forklift - 16\n",
    "- Commercial - 13\n",
    "- Stake or Rackv - 12\n",
    "- Utility - 12\n",
    "- School bus - 11\n",
    "- Tractor - 11\n",
    "- Limo - 10\n",
    "- Electric - 9\n",
    "- Minibike - 9\n",
    "- Open Body - 8\n",
    "- RV - 7\n",
    "- Bulk Agriculture - 5\n",
    "- Minicycle - 5\n",
    "- Pedicab - 5\n",
    "- Backhoe - 4\n",
    "- STAK - 4\n",
    "- Power shovel - 3\n",
    "- Self - 3\n",
    "- Street cleaning - 3\n",
    "- Courier - 2\n",
    "- Enclosed Body - Removable Enclosure - 2\n",
    "- Food truck - 2\n",
    "- Golf cart - 2\n",
    "- Livestock Rack - 2\n",
    "- Lunch Wagon - 2\n",
    "- Mini - 2\n",
    "- Motorized Home - 2\n",
    "- Pallet - 2\n",
    "- PC - 2\n",
    "- SPC - 2\n",
    "- STREE - 2\n",
    "- SWT - 2\n",
    "- Unicicle - 2\n",
    "- 1C - 1\n",
    "- 2- to - 1\n",
    "- BED T - 1\n",
    "- BLOCK - 1\n",
    "- BROOM - 1\n",
    "- Bucket Tru - 1\n",
    "- BULLD - 1\n",
    "- CAMP - 1\n",
    "- CASE - 1\n",
    "- CHERR - 1\n",
    "- CHEVY EXPR - 1\n",
    "- CONST - 1\n",
    "- CRANE - 1\n",
    "- cross - 1\n",
    "- dark color - 1\n",
    "- DEMA- - 1\n",
    "- DOT EQUIPM - 1\n",
    "- DRILL RIG - 1\n",
    "- E REVEL SC - 1\n",
    "- F150XL PIC - 1\n",
    "- FRONT - 1\n",
    "- Front-Load - 1\n",
    "- gator - 1\n",
    "- Glass Rack - 1\n",
    "- Go kart - 1\n",
    "- GOVER - 1\n",
    "- government - 1\n",
    "- GRAY - 1\n",
    "- HEAVY - 1\n",
    "- Hopper - 1\n",
    "- Horse - 1\n",
    "- J1 - 1\n",
    "- JOHN DEERE - 1\n",
    "- Lawnmower - 1\n",
    "- Leased amb - 1\n",
    "- LIBER - 1\n",
    "- LIGHT TRAI - 1\n",
    "- LOADE - 1\n",
    "- MACK - 1\n",
    "- MECHANICAL - 1\n",
    "- MOTOR SKAT - 1\n",
    "- NYC - 1\n",
    "- OMR - 1\n",
    "- OTH - 1\n",
    "- Police - 1\n",
    "- Pumper - 1\n",
    "- RGS - 1\n",
    "- ROAD SWEEP - 1\n",
    "- seagr - 1\n",
    "- sgws - 1\n",
    "- Skateboard - 1\n",
    "- SLINGSHOT - 1\n",
    "- SMART CAR - 1\n",
    "- Sprin - 1\n",
    "- Subn - 1\n",
    "- suburban - 1\n",
    "- SUV - 1\n",
    "- SWEEP - 1\n",
    "- TOWER - 1\n",
    "- TRT - 1\n",
    "- UTV - 1\n",
    "- Wh Ford co - 1\n",
    "- WORKH - 1\n",
    "- (blank)750"
   ]
  },
  {
   "cell_type": "markdown",
   "metadata": {},
   "source": [
    "The list of names and number of examples of \"VEHICLE TYPE CODE 1\" after we applied all the transformations mentioned are the following:\n",
    "\n",
    "- Sedan - 38643\n",
    "- Station Wagon/Sport Utility Vehicle - 29520\n",
    "- Taxi - 3622\n",
    "- Bike - 3605\n",
    "- Pickup - 3051\n",
    "- Box truck - 2532\n",
    "- includeeditBus - 1279\n",
    "- Truck - 1034\n",
    "- Motorcycle - 839\n",
    "- Van - 800\n",
    "- Dump - 369\n",
    "- E-Scooter - 357\n",
    "- Ambulance - 265\n",
    "- E-Bike - 256\n",
    "- Convertible - 252\n",
    "- Flat bed - 246\n",
    "- Garbage - 212\n",
    "- Moped - 152\n",
    "- Tow truck - 142\n",
    "- Carry All - 116\n",
    "- Fire truck - 95\n",
    "- Motorbike - 83\n",
    "- Motorscooter - 73\n",
    "- Chassis Cab - 68\n",
    "- Concrete Mixer - 50\n",
    "- Tanker - 46\n",
    "- Delivery - 38\n",
    "- Scooter - 37\n",
    "- Trailer - 34\n",
    "- Flat rack - 27\n",
    "- Beverage Truck - 25\n",
    "- Lift boom - 24\n",
    "- 3-Door - 22\n",
    "- Armored Truck - 22\n",
    "- Stake or Rack - 21\n",
    "- Commercial - 19\n",
    "- Forklift - 19\n",
    "- Electric - 18\n",
    "- Minibike - 15\n",
    "- Pedicab - 13\n",
    "- Multi-Wheeled Vehicle - 12\n",
    "- Open Body - 11\n",
    "- Street cleaning - 10\n",
    "- Power shovel - 9\n",
    "- School bus - 9\n",
    "- Utility - 9\n",
    "- Limo - 8\n",
    "- Backhoe - 7\n",
    "- Tractor - 7\n",
    "- Bulk Agriculture - 6\n",
    "- Lunch Wagon - 5\n",
    "- Pallet - 5\n",
    "- EMS - 4\n",
    "- Flat - 4\n",
    "- Golf cart - 4\n",
    "- White - 4\n",
    "- Food truck - 3\n",
    "- RV - 3\n",
    "- Skateboard - 3\n",
    "- 4dsd - 2\n",
    "- CONST - 2\n",
    "- Crane - 2\n",
    "- Escavator - 2\n",
    "- Hand - 2\n",
    "- HINO - 2\n",
    "- Hopper - 2\n",
    "- Minicycle - 2\n",
    "- RD/S - 2\n",
    "- SPRIN - 2\n",
    "- Suburban - 2\n",
    "- TOWTR - 2\n",
    "- (ceme - 1\n",
    "- B5-44 - 1\n",
    "- BK - 1\n",
    "- Boom - 1\n",
    "- C1 - 1\n",
    "- CARGO - 1\n",
    "- cate - 1\n",
    "- Chevr - 1\n",
    "- Com t - 1\n",
    "- COMMERICAL - 1\n",
    "- constructi - 1\n",
    "- DIRTBIKE - 1\n",
    "- EC2 - 1\n",
    "- EPO - 1\n",
    "- Fallet - 1\n",
    "- Fleet - 1\n",
    "- FORD - 1\n",
    "- GAS S - 1\n",
    "- GATOR - 1\n",
    "- Glass Rack - 1\n",
    "- GOVER - 1\n",
    "- Government - 1\n",
    "- HAUL FOR H - 1\n",
    "- Horse - 1\n",
    "- HOTDO - 1\n",
    "- I1 - 1\n",
    "- INTERNATIO - 1\n",
    "- JETSKI - 1\n",
    "- John Deere - 1\n",
    "- ken - 1\n",
    "- LAWN MOWER - 1\n",
    "- LEFT THE S - 1\n",
    "- Livestock Rack - 1\n",
    "- Log - 1\n",
    "- LP - 1\n",
    "- MILLI - 1\n",
    "- MOBILE - 1\n",
    "- mot s - 1\n",
    "- Motorized Home - 1\n",
    "- MTA Truck - 1\n",
    "- NYC - 1\n",
    "- OBJEC - 1\n",
    "- PC - 1\n",
    "- PEDIC - 1\n",
    "- Police - 1\n",
    "- RAM - 1\n",
    "- RED T - 1\n",
    "- REFG - 1\n",
    "- RESCU - 1\n",
    "- REVEL - 1\n",
    "- SC - 1\n",
    "- SE - 1\n",
    "- SMART - 1\n",
    "- Snow Plow - 1\n",
    "- spc p - 1\n",
    "- SPECIAL PU - 1\n",
    "- STREET SWE - 1\n",
    "- SUV - 1\n",
    "- Sweeper - 1\n",
    "- Tilt tande - 1\n",
    "- Toyota - 1\n",
    "- transport - 1\n",
    "- trash - 1\n",
    "- Tree cutte - 1\n",
    "- TRL - 1\n",
    "- TRLR - 1\n",
    "- Veh L - 1\n",
    "- VEHICLE 2 - 1\n",
    "- Wagon - 1\n",
    "- WC - 1\n",
    "- Well Driller - 1\n",
    "- WORK - 1\n",
    "- (blank) - 27480"
   ]
  },
  {
   "cell_type": "markdown",
   "metadata": {},
   "source": [
    "### VEHICLE TYPE CODE 3, 4 & 5"
   ]
  },
  {
   "cell_type": "markdown",
   "metadata": {},
   "source": [
    "Since most of the accidens occure between two vehicles, this columns were almost all blank values (code 3 107095, code 4 113658 and code 4 115154) so we decided to remove this columns"
   ]
  }
 ],
 "metadata": {
  "kernelspec": {
   "display_name": "Python 3",
   "language": "python",
   "name": "python3"
  },
  "language_info": {
   "codemirror_mode": {
    "name": "ipython",
    "version": 3
   },
   "file_extension": ".py",
   "mimetype": "text/x-python",
   "name": "python",
   "nbconvert_exporter": "python",
   "pygments_lexer": "ipython3",
   "version": "3.11.3"
  }
 },
 "nbformat": 4,
 "nbformat_minor": 2
}
