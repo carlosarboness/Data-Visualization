{
 "cells": [
  {
   "cell_type": "markdown",
   "metadata": {},
   "source": [
    "# Collisions in NY City\n",
    " Carlos Arbonés & Benet Ramió"
   ]
  },
  {
   "cell_type": "markdown",
   "metadata": {},
   "source": [
    "## Data extraction"
   ]
  },
  {
   "cell_type": "markdown",
   "metadata": {},
   "source": [
    "We acquired the dataset from the [Motor Vehicle Collisions](https://data.cityofnewyork.us/Public-Safety/Motor-Vehicle-Collisions-Crashes/h9gi-nx95) source. Prior to obtaining it, we specifically filtered and downloaded the records corresponding to the periods of June to September in both 2018 and 2020."
   ]
  },
  {
   "cell_type": "markdown",
   "metadata": {},
   "source": [
    "## General Info"
   ]
  },
  {
   "cell_type": "markdown",
   "metadata": {},
   "source": [
    "The dataset contains 115740 rows and 30 columns. "
   ]
  },
  {
   "cell_type": "markdown",
   "metadata": {},
   "source": [
    "## Preprocessing"
   ]
  },
  {
   "cell_type": "markdown",
   "metadata": {},
   "source": [
    "We will review every colum and check datatypes, null values, clustering..."
   ]
  },
  {
   "cell_type": "markdown",
   "metadata": {},
   "source": [
    "### Crash Date"
   ]
  },
  {
   "cell_type": "markdown",
   "metadata": {},
   "source": [
    "We mantain the datatype text. There are not null values. The data is consistent. We sort rows by Crash Date. "
   ]
  },
  {
   "cell_type": "markdown",
   "metadata": {},
   "source": [
    "### Crash Time"
   ]
  },
  {
   "cell_type": "markdown",
   "metadata": {},
   "source": [
    "No null values. There are hours like 00:00 and 13:00 that there are a lot of accidents. Exact hours like 15:20 or 6:45 are more often than minuts like 19, 23... that may be commodity typo by officers."
   ]
  },
  {
   "cell_type": "markdown",
   "metadata": {},
   "source": [
    "### Borough (municipio)"
   ]
  },
  {
   "cell_type": "markdown",
   "metadata": {},
   "source": [
    "Only 6 different values: BRONX, BROOKLYN, MANHATTAN, QUEENS, STATEN ISLAND, and blank. Blank has 40671 values. "
   ]
  },
  {
   "cell_type": "markdown",
   "metadata": {},
   "source": [
    "### Zip Code"
   ]
  },
  {
   "cell_type": "markdown",
   "metadata": {},
   "source": [
    "We change the datatype to number. There are 208 different zip codes. The majority of rows that do not have borough neither they have zip code, lot of blanks. From the zip code we can derive the \n",
    "borough: \n",
    "- Manhattan:10001-10282.\n",
    "- Staten Island :10301-10314.\n",
    "- Bronx: 10451-10475.\n",
    "- Queens:11004-11109, 11351-11697.\n",
    "- Brooklyn:11201-11256."
   ]
  },
  {
   "cell_type": "markdown",
   "metadata": {},
   "source": [
    "### Latitude, Longitude and Location"
   ]
  },
  {
   "cell_type": "markdown",
   "metadata": {},
   "source": [
    "We changed the type of latitude and longitude to number. We remove column location since we have all the information in the 2 previous columns. There are 7667 blanks.  "
   ]
  },
  {
   "cell_type": "markdown",
   "metadata": {},
   "source": [
    "There were atypical values like longitudes of -201 (impossible values). All this values were assigned to the same sreet: \"QUEENSBORO BRIDGE UPPER BROADWAY\". We checked the real longitude and it is -73.954224, we changed the values to this langitude. "
   ]
  },
  {
   "cell_type": "markdown",
   "metadata": {},
   "source": [
    "There is also and strange value of longitude related to NASSAU EXPRESSWAY, we changed and correct the previous value (-32) to -73.7813672. "
   ]
  },
  {
   "cell_type": "markdown",
   "metadata": {},
   "source": [
    "Again, antother wrong longitude value... We changed the value of the \"WEST SHORE EXPRESSWAY\" from -74.7 to -74.1864671."
   ]
  },
  {
   "cell_type": "markdown",
   "metadata": {},
   "source": [
    "The rows that have both latitude and longitude equal to 0, we change the values to blank text in order to uniform the data. "
   ]
  },
  {
   "cell_type": "markdown",
   "metadata": {},
   "source": [
    "### ON STREET NAME, CROSS STREET NAME and OFF STREET NAME"
   ]
  },
  {
   "cell_type": "markdown",
   "metadata": {},
   "source": [
    "We remove the colums since they have a lot of blank values (On street name has 28000, Cross Street name has more than 57000 and OFF STREET NAME more or less 80000) and the information is redundant and there are too many streets to make interesting viwes of groups. If needed we have more information in the latitude-longitude columns. "
   ]
  },
  {
   "cell_type": "markdown",
   "metadata": {},
   "source": [
    "### NUMBER OF PERSONS INJURED, NUMBER OF PERSONS KILLED, NUMBER OF PEDASTRIANS INJURED,NUMBER OF PEDASTRIANS KILLED, NUMBER OF CYCLISTS INJURED, NUMBER OF CYCLISTS KILLED, NUMBER OF MOTORISTS INJURED, NUMBER OF MOTORISTS KILLED"
   ]
  },
  {
   "cell_type": "markdown",
   "metadata": {},
   "source": [
    "We change the datatype of all this columns to number and changed the column names to shorter and more informative ones. The new names are: \n",
    "\n",
    "- TOTAL_INJURED\n",
    "- TOTAL_KILLED\n",
    "- PEDASTRIANS_INJURED\n",
    "- PEDASTRIANS_KILLED\n",
    "- CYCLISTS_INJURED\n",
    "- CYCLISTS_KILLED\n",
    "- MOTORISTS_INJURED\n",
    "- MOTORISTS_KILLED\n",
    "\n"
   ]
  },
  {
   "cell_type": "markdown",
   "metadata": {},
   "source": [
    "### COLLISION_ID"
   ]
  },
  {
   "cell_type": "markdown",
   "metadata": {},
   "source": [
    "We remove the columns since we do not need it for our analysis"
   ]
  },
  {
   "cell_type": "markdown",
   "metadata": {},
   "source": [
    "### VEHICLE TYPE CODE 1"
   ]
  },
  {
   "cell_type": "markdown",
   "metadata": {},
   "source": [
    "We do a cluster with Nearest Neighbor Method and then with key collision we uniform the final names of vehicles are: \n",
    "\n",
    "- Ambulance\n",
    "- Fire truck (FDNY)\n",
    "- Forklift\n",
    "- Unknown\n",
    "- Scooter\n",
    "- Box truck\n",
    "- Trailer\n",
    "- Van   CAMBIAR WORK VAN\n",
    "- Tractor\n",
    "- Pick up\n",
    "- Delivery (p.e UPS; USPS)\n",
    "- Sedan\n",
    "- Golf Cart\n",
    "- Courier\n",
    "- Utility\n",
    "- Commercial\n",
    "- RV\n",
    "- E-Bike\n",
    "- Dump\n",
    "- Bus\n",
    "- Pas\n",
    "- Self\n",
    "- School bus\n",
    "- Flat bed\n",
    "- Electric\n",
    "- Flat rack\n",
    "- Lift Boom\n",
    "- Limo\n",
    "- Police \n",
    "- Tow truck\n",
    "- E-Scooter"
   ]
  }
 ],
 "metadata": {
  "kernelspec": {
   "display_name": "Python 3",
   "language": "python",
   "name": "python3"
  },
  "language_info": {
   "codemirror_mode": {
    "name": "ipython",
    "version": 3
   },
   "file_extension": ".py",
   "mimetype": "text/x-python",
   "name": "python",
   "nbconvert_exporter": "python",
   "pygments_lexer": "ipython3",
   "version": "3.11.3"
  }
 },
 "nbformat": 4,
 "nbformat_minor": 2
}
