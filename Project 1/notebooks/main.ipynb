{
 "cells": [
  {
   "cell_type": "markdown",
   "metadata": {},
   "source": [
    "# Collisions in NY City\n",
    " Carlos Arbonés & Benet Ramió"
   ]
  },
  {
   "cell_type": "markdown",
   "metadata": {},
   "source": [
    "## Data extraction"
   ]
  },
  {
   "cell_type": "markdown",
   "metadata": {},
   "source": [
    "We acquired the dataset from the [Motor Vehicle Collisions](https://data.cityofnewyork.us/Public-Safety/Motor-Vehicle-Collisions-Crashes/h9gi-nx95) source. Prior to obtaining it, we specifically filtered and downloaded the records corresponding to the periods of June to September in both 2018 and 2020."
   ]
  },
  {
   "cell_type": "markdown",
   "metadata": {},
   "source": [
    "## General Info"
   ]
  },
  {
   "cell_type": "markdown",
   "metadata": {},
   "source": [
    "The dataset contains 115740 rows and 30 columns. "
   ]
  },
  {
   "cell_type": "markdown",
   "metadata": {},
   "source": [
    "## Preprocessing"
   ]
  },
  {
   "cell_type": "markdown",
   "metadata": {},
   "source": [
    "We will review every colum and check datatypes, null values, clustering..."
   ]
  },
  {
   "cell_type": "markdown",
   "metadata": {},
   "source": [
    "### Crash Date"
   ]
  },
  {
   "cell_type": "markdown",
   "metadata": {},
   "source": [
    "We mantain the datatype text. There are not null values. The data is consistent. We sort rows by Crash Date. "
   ]
  },
  {
   "cell_type": "markdown",
   "metadata": {},
   "source": [
    "### Crash Time"
   ]
  },
  {
   "cell_type": "markdown",
   "metadata": {},
   "source": [
    "No null values. There are hours like 00:00 and 13:00 that there are a lot of accidents. Exact hours like 15:20 or 6:45 are more often than minuts like 19, 23... that may be commodity typo by officers."
   ]
  },
  {
   "cell_type": "markdown",
   "metadata": {},
   "source": [
    "### Borough (municipio)"
   ]
  },
  {
   "cell_type": "markdown",
   "metadata": {},
   "source": [
    "Only 6 different values: BRONX, BROOKLYN, MANHATTAN, QUEENS, STATEN ISLAND, and blank. Blank has 40671 values. "
   ]
  },
  {
   "cell_type": "markdown",
   "metadata": {},
   "source": [
    "### Zip Code"
   ]
  },
  {
   "cell_type": "markdown",
   "metadata": {},
   "source": [
    "We change the datatype to number. There are 208 different zip codes. The majority of rows that do not have borough neither they have zip code, lot of blanks. From the zip code we can derive the \n",
    "borough: \n",
    "- Manhattan:10001-10282.\n",
    "- Staten Island :10301-10314.\n",
    "- Bronx: 10451-10475.\n",
    "- Queens:11004-11109, 11351-11697.\n",
    "- Brooklyn:11201-11256."
   ]
  },
  {
   "cell_type": "markdown",
   "metadata": {},
   "source": [
    "### Latitude, Longitude and Location"
   ]
  },
  {
   "cell_type": "markdown",
   "metadata": {},
   "source": [
    "We changed the type of latitude and longitude to number. We remove column location since we have all the information in the 2 previous columns. There are 7667 blanks.  "
   ]
  },
  {
   "cell_type": "markdown",
   "metadata": {},
   "source": [
    "There were atypical values like longitudes of -201 (impossible values). All this values were assigned to the same sreet: \"QUEENSBORO BRIDGE UPPER BROADWAY\". We checked the real longitude and it is -73.954224, we changed the values to this langitude. "
   ]
  },
  {
   "cell_type": "markdown",
   "metadata": {},
   "source": [
    "There is also and strange value of longitude related to NASSAU EXPRESSWAY, we changed and correct the previous value (-32) to -73.7813672. "
   ]
  },
  {
   "cell_type": "markdown",
   "metadata": {},
   "source": [
    "Again, antother wrong longitude value... We changed the value of the \"WEST SHORE EXPRESSWAY\" from -74.7 to -74.1864671."
   ]
  },
  {
   "cell_type": "markdown",
   "metadata": {},
   "source": [
    "The rows that have both latitude and longitude equal to 0, we change the values to blank text in order to uniform the data. "
   ]
  },
  {
   "cell_type": "markdown",
   "metadata": {},
   "source": [
    "### ON STREET NAME, CROSS STREET NAME and OFF STREET NAME"
   ]
  },
  {
   "cell_type": "markdown",
   "metadata": {},
   "source": [
    "We remove the colums since they have a lot of blank values (On street name has 28000, Cross Street name has more than 57000 and OFF STREET NAME more or less 80000) and the information is redundant and there are too many streets to make interesting viwes of groups. If needed we have more information in the latitude-longitude columns. "
   ]
  },
  {
   "cell_type": "markdown",
   "metadata": {},
   "source": [
    "### NUMBER OF PERSONS INJURED, NUMBER OF PERSONS KILLED, NUMBER OF PEDASTRIANS INJURED,NUMBER OF PEDASTRIANS KILLED, NUMBER OF CYCLISTS INJURED, NUMBER OF CYCLISTS KILLED, NUMBER OF MOTORISTS INJURED, NUMBER OF MOTORISTS KILLED"
   ]
  },
  {
   "cell_type": "markdown",
   "metadata": {},
   "source": [
    "We change the datatype of all this columns to number and changed the column names to shorter and more informative ones. The new names are: \n",
    "\n",
    "- TOTAL_INJURED\n",
    "- TOTAL_KILLED\n",
    "- PEDASTRIANS_INJURED\n",
    "- PEDASTRIANS_KILLED\n",
    "- CYCLISTS_INJURED\n",
    "- CYCLISTS_KILLED\n",
    "- MOTORISTS_INJURED\n",
    "- MOTORISTS_KILLED\n",
    "\n"
   ]
  },
  {
   "cell_type": "markdown",
   "metadata": {},
   "source": [
    "### COLLISION_ID"
   ]
  },
  {
   "cell_type": "markdown",
   "metadata": {},
   "source": [
    "We remove the columns since we do not need it for our analysis"
   ]
  },
  {
   "cell_type": "markdown",
   "metadata": {},
   "source": [
    "### VEHICLE TYPE CODE 1 & 2"
   ]
  },
  {
   "cell_type": "markdown",
   "metadata": {},
   "source": [
    "For both vehicle type code 1 and 2 we have done a cluster with Nearest Neighbor Method and then with key collision to uniform the final names. Since a lot of human errors were not clustered properly with this automatic method, we also checked all the names to see if we could cluster manually more, which we did. For example, a vehicle was entered as GLP050VXEV and searching in internet we saw that is a model of forklift so we changed its name. Like this example, we did it with a lot of vehicles. We also generalized some vehicles which were too especific; for example we changed fedex, ups, mail and others to delivery to have less classes of vehicles. Furthermore, all the unknown and NA values were putted in the blank format and all the vehicle types that had less than ten collisions were clustered into the others type to have less different names. Even with all the transformations mentioned, there were some types of vehicles that were not inerpretable and we were not able to correct and put into a cluster. \n",
    "\n",
    "It is important to remark that before doing any tranformation to the vheicle type names, form code 1 there were 361 different names and from code 2 there were 373."
   ]
  },
  {
   "cell_type": "markdown",
   "metadata": {},
   "source": [
    "The list of names and number of examples of \"VEHICLE TYPE CODE 1\" after we applying all the transformations mentioned are the following: \n",
    "\n",
    "- Sedan - 54025\n",
    "- Station Wagon/Sport Utility Vehicle - 40658\n",
    "- Taxi - 4806\n",
    "- Pickup - 3479\n",
    "- Box truck - 2325\n",
    "- Bike - 1938\n",
    "- Bus - 1420\n",
    "- Truck - 1087\n",
    "- Motorcycle - 1051\n",
    "- Van - 836\n",
    "- Ambulance - 467\n",
    "- Convertible - 411\n",
    "- Dump - 325\n",
    "- E-Scooter - 240\n",
    "- Flat bed - 232\n",
    "- Garbage - 193\n",
    "- Carry All - 146\n",
    "- E-Bike - 146\n",
    "- Moped - 135\n",
    "- Tow truck - 106\n",
    "- Scooter - 90\n",
    "- Chassis Cab - 83\n",
    "- Fire truck - 78\n",
    "- Tanker - 70\n",
    "- Motorbike - 64\n",
    "- Concrete Mixer - 63\n",
    "- Trailer - 63\n",
    "- Flat rack - 42\n",
    "- Delivery - 39\n",
    "- Armored Truck - 33\n",
    "- Beverage Truck - 30\n",
    "- 3-Door - 28\n",
    "- Lift boom - 21\n",
    "- Multi-Wheeled Vehicle - 19\n",
    "- Forklift - 16\n",
    "- Commercial - 13\n",
    "- Stake or Rackv - 12\n",
    "- Utility - 12\n",
    "- School bus - 11\n",
    "- Tractor - 11\n",
    "- Others - 156\n",
    "- (blank) - 750"
   ]
  },
  {
   "cell_type": "markdown",
   "metadata": {},
   "source": [
    "The list of names and number of examples of \"VEHICLE TYPE CODE 1\" after we applied all the transformations mentioned are the following:\n",
    "\n",
    "- Sedan - 38643\n",
    "- Station Wagon/Sport Utility Vehicle - 29520\n",
    "- Taxi - 3622\n",
    "- Bike - 3605\n",
    "- Pickup - 3051\n",
    "- Box truck - 2532\n",
    "- includeeditBus - 1279\n",
    "- Truck - 1034\n",
    "- Motorcycle - 839\n",
    "- Van - 800\n",
    "- Dump - 369\n",
    "- E-Scooter - 357\n",
    "- Ambulance - 265\n",
    "- E-Bike - 256\n",
    "- Convertible - 252\n",
    "- Flat bed - 246\n",
    "- Garbage - 212\n",
    "- Moped - 152\n",
    "- Tow truck - 142\n",
    "- Carry All - 116\n",
    "- Fire truck - 95\n",
    "- Motorbike - 83\n",
    "- Motorscooter - 73\n",
    "- Chassis Cab - 68\n",
    "- Concrete Mixer - 50\n",
    "- Tanker - 46\n",
    "- Delivery - 38\n",
    "- Scooter - 37\n",
    "- Trailer - 34\n",
    "- Flat rack - 27\n",
    "- Beverage Truck - 25\n",
    "- Lift boom - 24\n",
    "- 3-Door - 22\n",
    "- Armored Truck - 22\n",
    "- Stake or Rack - 21\n",
    "- Commercial - 19\n",
    "- Forklift - 19\n",
    "- Electric - 18\n",
    "- Minibike - 15\n",
    "- Pedicab - 13\n",
    "- Multi-Wheeled Vehicle - 12\n",
    "- Open Body - 11\n",
    "- Street cleaning - 10\n",
    "- Others - 186\n",
    "- (blank) - 27480"
   ]
  },
  {
   "cell_type": "markdown",
   "metadata": {},
   "source": [
    "### VEHICLE TYPE CODE 3, 4 & 5"
   ]
  },
  {
   "cell_type": "markdown",
   "metadata": {},
   "source": [
    "Since most of the accidens occure between two vehicles, this columns were almost all blank values (code 3 107095, code 4 113658 and code 4 115154) so we decided to remove this columns"
   ]
  },
  {
   "cell_type": "code",
   "execution_count": null,
   "metadata": {
    "vscode": {
     "languageId": "plaintext"
    }
   },
   "outputs": [],
   "source": []
  }
 ],
 "metadata": {
  "kernelspec": {
   "display_name": "Python 3",
   "language": "python",
   "name": "python3"
  },
  "language_info": {
   "codemirror_mode": {
    "name": "ipython",
    "version": 3
   },
   "file_extension": ".py",
   "mimetype": "text/x-python",
   "name": "python",
   "nbconvert_exporter": "python",
   "pygments_lexer": "ipython3",
   "version": "3.11.3"
  }
 },
 "nbformat": 4,
 "nbformat_minor": 2
}
