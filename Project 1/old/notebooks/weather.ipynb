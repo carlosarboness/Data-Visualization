{
 "cells": [
  {
   "cell_type": "markdown",
   "metadata": {},
   "source": [
    "# Weather Data in NY City "
   ]
  },
  {
   "cell_type": "code",
   "execution_count": 13,
   "metadata": {},
   "outputs": [],
   "source": [
    "import pandas as pd"
   ]
  },
  {
   "cell_type": "code",
   "execution_count": 14,
   "metadata": {},
   "outputs": [
    {
     "data": {
      "text/html": [
       "<div>\n",
       "<style scoped>\n",
       "    .dataframe tbody tr th:only-of-type {\n",
       "        vertical-align: middle;\n",
       "    }\n",
       "\n",
       "    .dataframe tbody tr th {\n",
       "        vertical-align: top;\n",
       "    }\n",
       "\n",
       "    .dataframe thead th {\n",
       "        text-align: right;\n",
       "    }\n",
       "</style>\n",
       "<table border=\"1\" class=\"dataframe\">\n",
       "  <thead>\n",
       "    <tr style=\"text-align: right;\">\n",
       "      <th></th>\n",
       "      <th>name</th>\n",
       "      <th>datetime</th>\n",
       "      <th>tempmax</th>\n",
       "      <th>tempmin</th>\n",
       "      <th>temp</th>\n",
       "      <th>feelslikemax</th>\n",
       "      <th>feelslikemin</th>\n",
       "      <th>feelslike</th>\n",
       "      <th>dew</th>\n",
       "      <th>humidity</th>\n",
       "      <th>...</th>\n",
       "      <th>solarenergy</th>\n",
       "      <th>uvindex</th>\n",
       "      <th>severerisk</th>\n",
       "      <th>sunrise</th>\n",
       "      <th>sunset</th>\n",
       "      <th>moonphase</th>\n",
       "      <th>conditions</th>\n",
       "      <th>description</th>\n",
       "      <th>icon</th>\n",
       "      <th>stations</th>\n",
       "    </tr>\n",
       "  </thead>\n",
       "  <tbody>\n",
       "    <tr>\n",
       "      <th>0</th>\n",
       "      <td>New York</td>\n",
       "      <td>2018-06-01</td>\n",
       "      <td>26.7</td>\n",
       "      <td>17.9</td>\n",
       "      <td>21.6</td>\n",
       "      <td>26.7</td>\n",
       "      <td>17.9</td>\n",
       "      <td>21.6</td>\n",
       "      <td>19.2</td>\n",
       "      <td>86.8</td>\n",
       "      <td>...</td>\n",
       "      <td>16.5</td>\n",
       "      <td>9</td>\n",
       "      <td>NaN</td>\n",
       "      <td>2018-06-01T05:27:08</td>\n",
       "      <td>2018-06-01T20:21:01</td>\n",
       "      <td>0.6</td>\n",
       "      <td>Rain, Partially cloudy</td>\n",
       "      <td>Partly cloudy throughout the day with rain in ...</td>\n",
       "      <td>rain</td>\n",
       "      <td>72505394728,72055399999,KLGA,KJRB,KNYC,F1417,7...</td>\n",
       "    </tr>\n",
       "  </tbody>\n",
       "</table>\n",
       "<p>1 rows × 33 columns</p>\n",
       "</div>"
      ],
      "text/plain": [
       "       name    datetime  tempmax  tempmin  temp  feelslikemax  feelslikemin  \\\n",
       "0  New York  2018-06-01     26.7     17.9  21.6          26.7          17.9   \n",
       "\n",
       "   feelslike   dew  humidity  ...  solarenergy  uvindex  severerisk  \\\n",
       "0       21.6  19.2      86.8  ...         16.5        9         NaN   \n",
       "\n",
       "               sunrise               sunset  moonphase  \\\n",
       "0  2018-06-01T05:27:08  2018-06-01T20:21:01        0.6   \n",
       "\n",
       "               conditions                                        description  \\\n",
       "0  Rain, Partially cloudy  Partly cloudy throughout the day with rain in ...   \n",
       "\n",
       "   icon                                           stations  \n",
       "0  rain  72505394728,72055399999,KLGA,KJRB,KNYC,F1417,7...  \n",
       "\n",
       "[1 rows x 33 columns]"
      ]
     },
     "execution_count": 14,
     "metadata": {},
     "output_type": "execute_result"
    }
   ],
   "source": [
    "weather2018 = pd.read_csv('../data/weather2018.csv')\n",
    "weather2020 = pd.read_csv('../data/weather2020.csv')\n",
    "weather2018.head(1)"
   ]
  },
  {
   "cell_type": "code",
   "execution_count": 15,
   "metadata": {},
   "outputs": [
    {
     "data": {
      "text/plain": [
       "Index(['name', 'datetime', 'tempmax', 'tempmin', 'temp', 'feelslikemax',\n",
       "       'feelslikemin', 'feelslike', 'dew', 'humidity', 'precip', 'precipprob',\n",
       "       'precipcover', 'preciptype', 'snow', 'snowdepth', 'windgust',\n",
       "       'windspeed', 'winddir', 'sealevelpressure', 'cloudcover', 'visibility',\n",
       "       'solarradiation', 'solarenergy', 'uvindex', 'severerisk', 'sunrise',\n",
       "       'sunset', 'moonphase', 'conditions', 'description', 'icon', 'stations'],\n",
       "      dtype='object')"
      ]
     },
     "execution_count": 15,
     "metadata": {},
     "output_type": "execute_result"
    }
   ],
   "source": [
    "weather2018.columns"
   ]
  },
  {
   "cell_type": "code",
   "execution_count": 16,
   "metadata": {},
   "outputs": [
    {
     "data": {
      "text/plain": [
       "name                 object\n",
       "datetime             object\n",
       "tempmax             float64\n",
       "tempmin             float64\n",
       "temp                float64\n",
       "feelslikemax        float64\n",
       "feelslikemin        float64\n",
       "feelslike           float64\n",
       "dew                 float64\n",
       "humidity            float64\n",
       "precip              float64\n",
       "precipprob            int64\n",
       "precipcover         float64\n",
       "preciptype           object\n",
       "snow                  int64\n",
       "snowdepth             int64\n",
       "windgust            float64\n",
       "windspeed           float64\n",
       "winddir             float64\n",
       "sealevelpressure    float64\n",
       "cloudcover          float64\n",
       "visibility          float64\n",
       "solarradiation      float64\n",
       "solarenergy         float64\n",
       "uvindex               int64\n",
       "severerisk          float64\n",
       "sunrise              object\n",
       "sunset               object\n",
       "moonphase           float64\n",
       "conditions           object\n",
       "description          object\n",
       "icon                 object\n",
       "stations             object\n",
       "dtype: object"
      ]
     },
     "execution_count": 16,
     "metadata": {},
     "output_type": "execute_result"
    }
   ],
   "source": [
    "weather2018.dtypes"
   ]
  },
  {
   "cell_type": "code",
   "execution_count": 17,
   "metadata": {},
   "outputs": [],
   "source": [
    "weather = pd.concat([weather2018, weather2020], axis=0)\n",
    "assert len(weather) == len(weather2018) + len(weather2020)"
   ]
  },
  {
   "cell_type": "code",
   "execution_count": 18,
   "metadata": {},
   "outputs": [
    {
     "data": {
      "text/plain": [
       "count    246.000000\n",
       "mean       2.100982\n",
       "std        5.570510\n",
       "min        0.000000\n",
       "25%        0.000000\n",
       "50%        0.001500\n",
       "75%        0.960750\n",
       "max       47.440000\n",
       "Name: precip, dtype: float64"
      ]
     },
     "execution_count": 18,
     "metadata": {},
     "output_type": "execute_result"
    }
   ],
   "source": [
    "weather['precip'] = weather['precip'].apply(lambda x: weather['precip'].mean() if x > 200 else x) # we have two values over 200 which are clearly wrong\n",
    "weather['precip'].describe()"
   ]
  },
  {
   "cell_type": "code",
   "execution_count": 19,
   "metadata": {},
   "outputs": [],
   "source": [
    "weather.to_csv('../data/weather.csv', index=False)"
   ]
  }
 ],
 "metadata": {
  "kernelspec": {
   "display_name": "Python 3",
   "language": "python",
   "name": "python3"
  },
  "language_info": {
   "codemirror_mode": {
    "name": "ipython",
    "version": 3
   },
   "file_extension": ".py",
   "mimetype": "text/x-python",
   "name": "python",
   "nbconvert_exporter": "python",
   "pygments_lexer": "ipython3",
   "version": "3.11.3"
  }
 },
 "nbformat": 4,
 "nbformat_minor": 2
}
