{
 "cells": [
  {
   "cell_type": "markdown",
   "metadata": {},
   "source": [
    "## Design and implementation"
   ]
  },
  {
   "cell_type": "code",
   "execution_count": 255,
   "metadata": {},
   "outputs": [
    {
     "data": {
      "text/plain": [
       "DataTransformerRegistry.enable('default')"
      ]
     },
     "execution_count": 255,
     "metadata": {},
     "output_type": "execute_result"
    }
   ],
   "source": [
    "import pandas as pd\n",
    "import numpy as np\n",
    "import altair as alt\n",
    "import geopandas as gpd\n",
    "\n",
    "alt.data_transformers.disable_max_rows()"
   ]
  },
  {
   "cell_type": "code",
   "execution_count": 256,
   "metadata": {},
   "outputs": [],
   "source": [
    "collisions = pd.read_csv('../data/preprocessed-collisions-final.csv')"
   ]
  },
  {
   "cell_type": "markdown",
   "metadata": {},
   "source": [
    "### Are accidents more frequent during weekdays or weekends? Is there any difference between before COVID-19 and after?"
   ]
  },
  {
   "cell_type": "markdown",
   "metadata": {},
   "source": [
    "We need to distinguish between weekdays and weekends and also between the periods before and after COVID (2018 and 2020). Our initial approach involves organizing the data with the day of the week on the x-axis and aggregating the number of accidents for each day. This method should allow us to observe any significant differences between weekdays and weekends.\n",
    "\n",
    "To compare the number of accidents before and after COVID, we propose using a paired bar chart. This visual representation will employ distinct colors for each period, providing a clear comparison between the two."
   ]
  },
  {
   "cell_type": "code",
   "execution_count": 257,
   "metadata": {},
   "outputs": [],
   "source": [
    "frequent_collisions = collisions[['CRASH_DATETIME', 'day_week', 'type_day']]\n",
    "frequent_collisions.to_csv('../data/frequent-collisions.csv', index=False)"
   ]
  },
  {
   "cell_type": "code",
   "execution_count": 258,
   "metadata": {},
   "outputs": [],
   "source": [
    "paired_bar_chart = alt.Chart(frequent_collisions).mark_bar().encode(\n",
    "  x = alt.X('year:O', title = 'Type of day', axis=alt.Axis(title=None, labels=False, ticks=False)), \n",
    "  y = alt.Y('count:Q', title = 'Number of collisions'),\n",
    "  color= alt.Color('year:O', scale = alt.Scale(domain=[2018, 2020], range=['#ff7f0e', 'steelblue'])),\n",
    "  column = alt.Column('day_week:N', title='Day of the Week', \n",
    "  sort=['Monday', 'Tuesday', 'Wednesday', 'Thursday', 'Friday', 'Saturday', 'Sunday'], \n",
    "  header=alt.Header(titleOrient='bottom', labelOrient='bottom', labelPadding=4))\n",
    ").transform_calculate(\n",
    "  year = 'year(datum.CRASH_DATETIME)',\n",
    ").transform_aggregate(\n",
    "   count='count()',\n",
    "   groupby=['year', 'day_week']\n",
    ")\n",
    "\n",
    "# paired_bar_chart"
   ]
  },
  {
   "cell_type": "markdown",
   "metadata": {},
   "source": [
    "We can observe from the previous graph that it allows differentiation between the years for the same day of the week, enabling a comparison before and after COVID. However, we've noticed that for comparing and analyzing whether there have been more accidents on weekdays or weekends, the chart is somewhat limited. Therefore, our next step is to add a slope chart to incorporate this information, which is not being well encoded at the moment."
   ]
  },
  {
   "cell_type": "code",
   "execution_count": 259,
   "metadata": {},
   "outputs": [],
   "source": [
    "slope_chart = alt.Chart(frequent_collisions).mark_line(point=True).encode(\n",
    "  x = alt.X('type_day:O', title = 'Type of day'),\n",
    "  y = alt.Y('avg:Q', title = 'Number of collisions', axis=alt.Axis(title=None)),\n",
    "  color= alt.Color('year:O', scale = alt.Scale(domain=[2018, 2020], range=['#ff7f0e', 'steelblue']))\n",
    ").transform_calculate(\n",
    "  year = 'year(datum.CRASH_DATETIME)'\n",
    ").transform_aggregate(\n",
    "   count='count()',\n",
    "   groupby=['year', 'day_week', 'type_day']\n",
    ").transform_aggregate(\n",
    "    avg = 'mean(count)',\n",
    "    groupby=['year', 'type_day']\n",
    ")\n",
    "\n",
    "# (paired_bar_chart | slope_chart).properties(\n",
    "#      title='Number of collisions by day of the week and year'\n",
    "# ).configure_title(anchor='middle').configure_view(stroke='transparent').resolve_scale(y='shared', x='independent', color='shared')"
   ]
  },
  {
   "cell_type": "markdown",
   "metadata": {},
   "source": [
    "In the preceding bar chart, orange bars represent data from the year 2018, while blue bars represent data from 2020 (before and after COVID, respectively). Examining the length of the bars reveals a consistent trend: on all days of the week, the number of accidents (in total) occurring separately on each day is considerably higher (more than double in all cases) before COVID compared to after.\n",
    "\n",
    "Moreover, in the right slope chart, where colors correspond to those in the paired bar chart, a decreasing trend is evident in the number of accidents on weekdays versus weekends. Weekends consistently show a lower average number of accidents both before and after COVID. Notably, this difference intensifies before COVID, indicating a more pronounced contrast. However, in 2020, the difference is not as significant.\n",
    "\n",
    "From this graph, we can infer that the number of traffic accidents has decreased post-COVID, and this reduction in accidents on weekends has followed a similar trend, with a slight decrease in the decline. One possible explanation is the reduced use of both public and private transportation on weekends due to decreased overall activity (work, school, etc.)."
   ]
  },
  {
   "cell_type": "markdown",
   "metadata": {},
   "source": [
    "### Is there any type of vehicle more prone to participate in accidents?"
   ]
  },
  {
   "cell_type": "code",
   "execution_count": 260,
   "metadata": {},
   "outputs": [
    {
     "data": {
      "text/html": [
       "<div>\n",
       "<style scoped>\n",
       "    .dataframe tbody tr th:only-of-type {\n",
       "        vertical-align: middle;\n",
       "    }\n",
       "\n",
       "    .dataframe tbody tr th {\n",
       "        vertical-align: top;\n",
       "    }\n",
       "\n",
       "    .dataframe thead th {\n",
       "        text-align: right;\n",
       "    }\n",
       "</style>\n",
       "<table border=\"1\" class=\"dataframe\">\n",
       "  <thead>\n",
       "    <tr style=\"text-align: right;\">\n",
       "      <th></th>\n",
       "      <th>vehicle_type</th>\n",
       "      <th>counts</th>\n",
       "      <th>character</th>\n",
       "    </tr>\n",
       "  </thead>\n",
       "  <tbody>\n",
       "    <tr>\n",
       "      <th>0</th>\n",
       "      <td>Sedan</td>\n",
       "      <td>92668</td>\n",
       "      <td>Private</td>\n",
       "    </tr>\n",
       "    <tr>\n",
       "      <th>1</th>\n",
       "      <td>Station Wagon/Sport Utility Vehicle</td>\n",
       "      <td>70178</td>\n",
       "      <td>Private</td>\n",
       "    </tr>\n",
       "    <tr>\n",
       "      <th>2</th>\n",
       "      <td>Taxi</td>\n",
       "      <td>8428</td>\n",
       "      <td>Public</td>\n",
       "    </tr>\n",
       "    <tr>\n",
       "      <th>3</th>\n",
       "      <td>Others</td>\n",
       "      <td>6700</td>\n",
       "      <td>Private</td>\n",
       "    </tr>\n",
       "    <tr>\n",
       "      <th>4</th>\n",
       "      <td>Pickup</td>\n",
       "      <td>6530</td>\n",
       "      <td>Private</td>\n",
       "    </tr>\n",
       "  </tbody>\n",
       "</table>\n",
       "</div>"
      ],
      "text/plain": [
       "                          vehicle_type  counts character\n",
       "0                                Sedan   92668   Private\n",
       "1  Station Wagon/Sport Utility Vehicle   70178   Private\n",
       "2                                 Taxi    8428    Public\n",
       "3                               Others    6700   Private\n",
       "4                               Pickup    6530   Private"
      ]
     },
     "execution_count": 260,
     "metadata": {},
     "output_type": "execute_result"
    }
   ],
   "source": [
    "vehicle_type = pd.DataFrame({'vehicle_type': list(collisions['VEHICLE_TYPE_CODE1'].values) + list(collisions['VEHICLE_TYPE_CODE2'])})\n",
    "vehicle_type = vehicle_type.groupby('vehicle_type').size().reset_index(name='counts')\n",
    "most_collisioned = list(vehicle_type.sort_values(by='counts', ascending=False).head(10)['vehicle_type'])\n",
    "vehicle_type['vehicle_type'] = vehicle_type['vehicle_type'].apply(lambda x: x if x in most_collisioned else 'Others')\n",
    "vehicle_type = vehicle_type.groupby('vehicle_type').sum('counts').reset_index()\n",
    "vehicle_type['character'] = vehicle_type['vehicle_type'].apply(lambda x: 'Public' if x in ['Bus', 'Taxi'] else 'Private')\n",
    "vehicle_type = vehicle_type.sort_values(by='counts', ascending=False).reset_index(drop=True)\n",
    "vehicle_type.to_csv('../data/vehicle_type.csv', index=False)\n",
    "vehicle_type.head()"
   ]
  },
  {
   "cell_type": "markdown",
   "metadata": {},
   "source": [
    "This initial analysis aims to identify the most frequently involved vehicles in accidents. To achieve this, we will employ a bar chart where the number of accidents is represented on the x-axis, and the names of the vehicles are plotted on the y-axis. The choice of a bar chart is intentional, as it allows for a clear visual comparison of accident frequencies across various vehicles. This visualization method optimally presents the names of the vehicles, facilitating a comprehensive understanding of their respective accident counts. "
   ]
  },
  {
   "cell_type": "code",
   "execution_count": 261,
   "metadata": {},
   "outputs": [],
   "source": [
    "bar_chart = alt.Chart(vehicle_type).mark_bar().encode(\n",
    "    x=alt.X('counts:Q', title='Number of collisions'),\n",
    "    y=alt.Y('vehicle_type:N', \n",
    "            sort=list(vehicle_type.loc[vehicle_type['vehicle_type'] != 'Others', 'vehicle_type']) + ['Others'], \n",
    "            title='Vehicle Type'),\n",
    "    color=alt.condition(\n",
    "        alt.datum.vehicle_type == 'Others',\n",
    "        alt.value('grey'),\n",
    "        alt.Color('character:N', legend=alt.Legend(title='Ownership Type'), scale=alt.Scale(domain=['Public', 'Private'], range=['#4daf4a', '#377eb8'])),\n",
    "    ),  \n",
    ")\n",
    "\n",
    "mean_line = alt.Chart(vehicle_type).mark_rule(color='red', strokeWidth=1.5).encode(x = alt.X('mean(counts):Q'))\n",
    "\n",
    "# (bar_chart + mean_line).properties(\n",
    "#    title=alt.TitleParams(text='Number of collisions by vehicle type', fontSize=14, subtitle='', offset=20),\n",
    "#    width=300,\n",
    "#    height=400\n",
    "# ).configure_title(anchor='middle').configure_view(stroke='transparent')"
   ]
  },
  {
   "cell_type": "markdown",
   "metadata": {},
   "source": [
    "The issue with this chart is that it displays the number of accidents for each vehicle type during the given time period. However, it doesn't provide information about whether a particular vehicle is more prone to accidents than another, as we lack data on the total number of each type of vehicle. Nevertheless, it's evident that privately owned cars (tourism vehicles) are involved in the majority of accidents in New York City, significantly surpassing the average. Following this, we notice other vehicles that are frequently involved in accidents, such as taxis, pickups, or bicycles, for example."
   ]
  },
  {
   "cell_type": "markdown",
   "metadata": {},
   "source": [
    "### Are there any areas with a larger number of accidents?"
   ]
  },
  {
   "cell_type": "code",
   "execution_count": 262,
   "metadata": {},
   "outputs": [],
   "source": [
    "geo_collisions = collisions[['LATITUDE', 'LONGITUDE', 'ZIP_CODE', 'BOROUGH']]\n",
    "geo_collisions = geo_collisions.dropna()\n",
    "geo_collisions['ZIP_CODE'] = geo_collisions['ZIP_CODE'].astype(str).apply(lambda x: x.split('.')[0])\n",
    "geo_collisions.to_csv('../data/geo_collisions.csv', index=False)\n",
    "ny_city_map = alt.topo_feature('../data/ny_city_map.geojson', 'map')"
   ]
  },
  {
   "cell_type": "code",
   "execution_count": 263,
   "metadata": {},
   "outputs": [],
   "source": [
    "ny_city = alt.Chart(ny_city_map).mark_geoshape(\n",
    "    fill='lightgray',  \n",
    "    stroke='white',    \n",
    "    strokeWidth=1.5    \n",
    ")                            "
   ]
  },
  {
   "cell_type": "markdown",
   "metadata": {},
   "source": [
    "The initial idea is to create a point map where each accident is marked as a point on the New York map. This way, we aim to visualize which areas have more points and, consequently, more accidents. Additionally, we have considered that it would be helpful to have a reference for the number of accidents in each borough to scale the visualization. We will also reduce the opacity of the points to better distinguish those that are close together. We should use a categorical color palette since there is no specific order, and it should allow for clear differentiation between the various neighborhoods. Furthermore, we won't include redundant neighborhood information in the bar chart, as it is already encoded with color."
   ]
  },
  {
   "cell_type": "code",
   "execution_count": 264,
   "metadata": {},
   "outputs": [],
   "source": [
    "point_map = alt.Chart(geo_collisions).mark_circle(size=1, opacity=0.7).encode(\n",
    "    latitude='LATITUDE:Q',\n",
    "    longitude='LONGITUDE:Q',\n",
    "    color = alt.Color('BOROUGH:N', \n",
    "                      scale=alt.Scale(scheme='tableau10'))\n",
    ")\n",
    "\n",
    "bar_chart_map = alt.Chart(geo_collisions).mark_bar().encode(\n",
    "    alt.X('BOROUGH:N', title='Borough', axis=alt.Axis(title=None, labels=False, ticks=False)),\n",
    "    alt.Y('count():Q', title='Number of Accidents'),\n",
    "    color = alt.Color('BOROUGH:N', \n",
    "                      scale=alt.Scale(scheme='tableau10'),)\n",
    ")\n",
    "    \n",
    "# ((ny_city + point_map).properties(\n",
    "#     width=380,\n",
    "#     height=380\n",
    "# ) | bar_chart_map).properties(\n",
    "#     title = alt.TitleParams(text='Number of collisions by borough', \n",
    "#                             fontSize=18, \n",
    "#                             subtitle='', \n",
    "#                             offset=25)\n",
    "# ).configure_title(\n",
    "#     anchor='middle'\n",
    "# )"
   ]
  },
  {
   "cell_type": "code",
   "execution_count": 265,
   "metadata": {},
   "outputs": [],
   "source": [
    "gdf = gpd.read_file('../data/ny_city_map.geojson')\n",
    "gdf_meters = gdf.to_crs(epsg=3395)\n",
    "gdf = gdf.merge(geo_collisions.groupby(['ZIP_CODE']).size().reset_index(name='count').rename(columns={'ZIP_CODE': 'postalCode'}), on='postalCode', how='left')\n",
    "gdf['normalized_by_area_count'] = gdf['count']/(gdf['Shape_Area'] / 1e6)\n",
    "gdf['log_normalized_by_area_count'] = gdf['normalized_by_area_count'].apply(lambda x: np.log(x) if x > 0 else 0)\n",
    "gdf.to_csv('../data/gdf.csv', index=False)"
   ]
  },
  {
   "cell_type": "markdown",
   "metadata": {},
   "source": [
    "We have observed that the point map does not efficiently differentiate areas with more accidents. Due to the high volume of points, they overlap, creating regions of solid color that are challenging to interpret. Therefore, the next step will be to try a choropleth map, which differentiates by PostalCode and encodes the number of accidents in each area with color. One issue we encounter is that larger map regions will generally have more accidents, making it an unfair comparison. To address this, we have decided to normalize the number of accidents in a specific area by the area it occupies. Instead of encoding the raw number of accidents, we will encode the number of accidents per square kilometer to facilitate meaningful comparisons. We will use a Sequential Single-Hue palette for clarity."
   ]
  },
  {
   "cell_type": "code",
   "execution_count": 266,
   "metadata": {},
   "outputs": [],
   "source": [
    "# gdf.sort_values(by='normalized_by_area_count', ascending=False)[['postalCode', 'normalized_by_area_count']].head(20)"
   ]
  },
  {
   "cell_type": "code",
   "execution_count": 267,
   "metadata": {},
   "outputs": [],
   "source": [
    "choropleth_map = alt.Chart(gdf).mark_geoshape().encode(\n",
    "    alt.Color('normalized_by_area_count:Q',\n",
    "              # title='Number of Accidents per km^2', \n",
    "              scale=alt.Scale(scheme='lightorange', domain=[0, 40]), \n",
    "              legend = None),\n",
    ").properties(\n",
    "    width=500,\n",
    "    height=450,\n",
    ")\n",
    "\n",
    "borough_names = alt.Chart(geo_collisions).mark_text(fontWeight='bold', fontSize=11, color='black').encode(\n",
    "    latitude='mean_lat:Q',\n",
    "    longitude='mean_long:Q',\n",
    "    text='BOROUGH:N',\n",
    ").transform_aggregate(\n",
    "    mean_lat='mean(LATITUDE)',\n",
    "    mean_long='mean(LONGITUDE)',\n",
    "    groupby=['BOROUGH']\n",
    ")\n",
    "\n",
    "# (choropleth_map + borough_names).properties(\n",
    "#      title=alt.TitleParams(text='Number of Collisions by PostalCode', fontSize=16, subtitle='', offset=20),\n",
    "# ).configure_title(anchor='middle')"
   ]
  },
  {
   "cell_type": "code",
   "execution_count": 268,
   "metadata": {},
   "outputs": [
    {
     "data": {
      "text/plain": [
       "Index(['BOROUGH', 'ZIP_CODE', 'LATITUDE', 'LONGITUDE', 'TOTAL_INJURED',\n",
       "       'TOTAL_KILLED', 'PEDESTRIANS_INJURED', 'PEDESTRIANS_KILLED',\n",
       "       'CYCLIST_INJURED', 'CYCLIST_KILLED', 'MOTORIST_INJURED',\n",
       "       'MOTORIST_KILLED', 'CONTRIBUTING_FACTOR_VEHICLE1',\n",
       "       'CONTRIBUTING_FACTOR_VEHICLE2', 'CONTRIBUTING_FACTOR_VEHICLE3',\n",
       "       'CONTRIBUTING_FACTOR_VEHICLE4', 'CONTRIBUTING_FACTOR_VEHICLE5',\n",
       "       'VEHICLE_TYPE_CODE1', 'VEHICLE_TYPE_CODE2', 'CRASH_DATETIME',\n",
       "       'day_week', 'type_day'],\n",
       "      dtype='object')"
      ]
     },
     "execution_count": 268,
     "metadata": {},
     "output_type": "execute_result"
    }
   ],
   "source": [
    "collisions.columns"
   ]
  },
  {
   "cell_type": "code",
   "execution_count": 269,
   "metadata": {},
   "outputs": [],
   "source": [
    "death_rate = collisions[['TOTAL_INJURED','TOTAL_KILLED', 'PEDESTRIANS_INJURED', 'PEDESTRIANS_KILLED',\n",
    "                         'CYCLIST_INJURED', 'CYCLIST_KILLED', 'MOTORIST_INJURED', 'MOTORIST_KILLED']]\n",
    "death_rate = death_rate.dropna()"
   ]
  },
  {
   "cell_type": "code",
   "execution_count": 270,
   "metadata": {},
   "outputs": [
    {
     "data": {
      "text/html": [
       "<div>\n",
       "<style scoped>\n",
       "    .dataframe tbody tr th:only-of-type {\n",
       "        vertical-align: middle;\n",
       "    }\n",
       "\n",
       "    .dataframe tbody tr th {\n",
       "        vertical-align: top;\n",
       "    }\n",
       "\n",
       "    .dataframe thead th {\n",
       "        text-align: right;\n",
       "    }\n",
       "</style>\n",
       "<table border=\"1\" class=\"dataframe\">\n",
       "  <thead>\n",
       "    <tr style=\"text-align: right;\">\n",
       "      <th></th>\n",
       "      <th>TOTAL_INJURED</th>\n",
       "      <th>TOTAL_KILLED</th>\n",
       "      <th>PEDESTRIANS_INJURED</th>\n",
       "      <th>PEDESTRIANS_KILLED</th>\n",
       "      <th>CYCLIST_INJURED</th>\n",
       "      <th>CYCLIST_KILLED</th>\n",
       "      <th>MOTORIST_INJURED</th>\n",
       "      <th>MOTORIST_KILLED</th>\n",
       "    </tr>\n",
       "  </thead>\n",
       "  <tbody>\n",
       "    <tr>\n",
       "      <th>0</th>\n",
       "      <td>0.0</td>\n",
       "      <td>1.0</td>\n",
       "      <td>0</td>\n",
       "      <td>0</td>\n",
       "      <td>0</td>\n",
       "      <td>0</td>\n",
       "      <td>0</td>\n",
       "      <td>1</td>\n",
       "    </tr>\n",
       "    <tr>\n",
       "      <th>1</th>\n",
       "      <td>0.0</td>\n",
       "      <td>0.0</td>\n",
       "      <td>0</td>\n",
       "      <td>0</td>\n",
       "      <td>0</td>\n",
       "      <td>0</td>\n",
       "      <td>0</td>\n",
       "      <td>0</td>\n",
       "    </tr>\n",
       "    <tr>\n",
       "      <th>2</th>\n",
       "      <td>0.0</td>\n",
       "      <td>0.0</td>\n",
       "      <td>0</td>\n",
       "      <td>0</td>\n",
       "      <td>0</td>\n",
       "      <td>0</td>\n",
       "      <td>0</td>\n",
       "      <td>0</td>\n",
       "    </tr>\n",
       "    <tr>\n",
       "      <th>3</th>\n",
       "      <td>1.0</td>\n",
       "      <td>0.0</td>\n",
       "      <td>0</td>\n",
       "      <td>0</td>\n",
       "      <td>0</td>\n",
       "      <td>0</td>\n",
       "      <td>1</td>\n",
       "      <td>0</td>\n",
       "    </tr>\n",
       "    <tr>\n",
       "      <th>4</th>\n",
       "      <td>0.0</td>\n",
       "      <td>1.0</td>\n",
       "      <td>0</td>\n",
       "      <td>0</td>\n",
       "      <td>0</td>\n",
       "      <td>1</td>\n",
       "      <td>0</td>\n",
       "      <td>0</td>\n",
       "    </tr>\n",
       "  </tbody>\n",
       "</table>\n",
       "</div>"
      ],
      "text/plain": [
       "   TOTAL_INJURED  TOTAL_KILLED  PEDESTRIANS_INJURED  PEDESTRIANS_KILLED   \n",
       "0            0.0           1.0                    0                   0  \\\n",
       "1            0.0           0.0                    0                   0   \n",
       "2            0.0           0.0                    0                   0   \n",
       "3            1.0           0.0                    0                   0   \n",
       "4            0.0           1.0                    0                   0   \n",
       "\n",
       "   CYCLIST_INJURED  CYCLIST_KILLED  MOTORIST_INJURED  MOTORIST_KILLED  \n",
       "0                0               0                 0                1  \n",
       "1                0               0                 0                0  \n",
       "2                0               0                 0                0  \n",
       "3                0               0                 1                0  \n",
       "4                0               1                 0                0  "
      ]
     },
     "execution_count": 270,
     "metadata": {},
     "output_type": "execute_result"
    }
   ],
   "source": [
    "death_rate.head()"
   ]
  }
 ],
 "metadata": {
  "kernelspec": {
   "display_name": "Python 3",
   "language": "python",
   "name": "python3"
  },
  "language_info": {
   "codemirror_mode": {
    "name": "ipython",
    "version": 3
   },
   "file_extension": ".py",
   "mimetype": "text/x-python",
   "name": "python",
   "nbconvert_exporter": "python",
   "pygments_lexer": "ipython3",
   "version": "3.11.3"
  }
 },
 "nbformat": 4,
 "nbformat_minor": 2
}
