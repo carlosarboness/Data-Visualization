{
 "cells": [
  {
   "cell_type": "code",
   "execution_count": 85,
   "metadata": {},
   "outputs": [],
   "source": [
    "import pandas as pd\n",
    "\n",
    "def preprocessing(df: pd.DataFrame) -> pd.DataFrame:\n",
    "    df.fillna(0, inplace=True)\n",
    "    df = df.drop(df.columns[0], axis = 1)\n",
    "    \n",
    "    for col in df.columns: \n",
    "      if \"_ATTRIBUTES\" in col:\n",
    "        df = df.drop(col, axis=1)\n",
    "        \n",
    "    df = df.groupby('DATE', as_index=False).mean() \n",
    "    df[\"WT\"] = df.iloc[:, 9:].idxmax(axis=1)\n",
    "    df.drop(df.columns[9:18], axis=1, inplace=True)\n",
    "\n",
    "    return df\n",
    "\n",
    "Weather2018 = preprocessing(pd.read_csv('W18.csv'))\n",
    "Weather2020 = preprocessing(pd.read_csv('W20.csv'))\n",
    "Weather = pd.concat([Weather2018, Weather2020], axis=0)"
   ]
  }
 ],
 "metadata": {
  "kernelspec": {
   "display_name": "Python 3",
   "language": "python",
   "name": "python3"
  },
  "language_info": {
   "codemirror_mode": {
    "name": "ipython",
    "version": 3
   },
   "file_extension": ".py",
   "mimetype": "text/x-python",
   "name": "python",
   "nbconvert_exporter": "python",
   "pygments_lexer": "ipython3",
   "version": "3.11.3"
  }
 },
 "nbformat": 4,
 "nbformat_minor": 2
}
