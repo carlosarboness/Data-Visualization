{
 "cells": [
  {
   "cell_type": "markdown",
   "metadata": {},
   "source": [
    "### Which weather condition and type of vehicle were present in the majority of accidents each month? And in the combination of all the months?"
   ]
  },
  {
   "cell_type": "markdown",
   "metadata": {},
   "source": [
    "La primera idea es poner visualizacion que permita cambiar por mes, es decir con un menu que permita seleccionar si el mes que se quiere ver es Junio, Julio, Agosto o Septimebre. Cuando se selecciona un mes se desplegaran 2 graficos, el de la izquierda mostrarà mediante un bar chart las weather conditions que más han ocurrido durante el mes seleciconado"
   ]
  },
  {
   "cell_type": "code",
   "execution_count": null,
   "metadata": {},
   "outputs": [],
   "source": []
  }
 ],
 "metadata": {
  "language_info": {
   "name": "python"
  }
 },
 "nbformat": 4,
 "nbformat_minor": 2
}
