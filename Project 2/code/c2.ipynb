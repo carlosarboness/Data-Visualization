{
 "cells": [
  {
   "cell_type": "markdown",
   "metadata": {},
   "source": [
    "### In which area and at what hour did the majority of accidents each month happen? And in the combination of all the months?"
   ]
  },
  {
   "cell_type": "markdown",
   "metadata": {},
   "source": [
    "Line chart de numero de accidentes por hora, cuando se selecciona una hora concreta se desplega un mapa tipo clorpleth, donde por cada zona (al principio barrio) se ve cuantos accidentes hay. Al reves tambien, para una zona concreta se seleccionan los accidentes en esa zonda durante el dia. "
   ]
  },
  {
   "cell_type": "code",
   "execution_count": null,
   "metadata": {},
   "outputs": [],
   "source": []
  }
 ],
 "metadata": {
  "language_info": {
   "name": "python"
  }
 },
 "nbformat": 4,
 "nbformat_minor": 2
}
